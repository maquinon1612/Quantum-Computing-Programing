{
 "cells": [
  {
   "cell_type": "markdown",
   "metadata": {},
   "source": [
    "# La QFT y sumadores cuánticos\n",
    "\n",
    "\n",
    "\n",
    "Mario Quiñones Pérez\n",
    "\n",
    "## tKet"
   ]
  },
  {
   "cell_type": "markdown",
   "metadata": {},
   "source": [
    "En esta práctica profundizaremos en la Transformada Cuántica de Fourier (QFT), que es fundamental para aplicar la phase kickback. Además, aprovecharemos el diseño de este componente para implementar un sumador cuántico."
   ]
  },
  {
   "cell_type": "code",
   "execution_count": 1,
   "metadata": {},
   "outputs": [],
   "source": [
    "from pytket import Circuit\n",
    "from pytket.extensions.qiskit import AerBackend\n",
    "import numpy as np"
   ]
  },
  {
   "cell_type": "markdown",
   "metadata": {},
   "source": [
    "### QFT"
   ]
  },
  {
   "cell_type": "markdown",
   "metadata": {},
   "source": [
    "La Transformada Cuántica de Fourier (QFT) es un método para trabajar en el dominio de la fase, esto nos permite aprovechar el fenómeno de la superposición, visto en la práctica anterior. Con esta puerta pasamos del dominio de la amplitud al dominio de la fase para poder así influir en la salida al modificar las amplitudes antes de realizar la medición favoreciendo así aquella salida que nos interesa, en esta práctica la de la suma.\n",
    "\n",
    "En primer lugar hay que aplicar una puerta Hadamard a todos los qubits y, a continuación, hay que aplicar rotaciones controladas. Dichas rotaciones siguen la siguiente regla: el qubit xi controla una rotación Rπ/2^(i−j) sobre el qubit objetivo xi−j."
   ]
  },
  {
   "cell_type": "code",
   "execution_count": 2,
   "metadata": {},
   "outputs": [],
   "source": [
    "##QFT\n",
    "\n",
    "# Esta función crea una transformada cuántica de Fourier para un número de qubits dado,\n",
    "# si no se especifica se creará para dos qubits\n",
    "def QFT(qc, qbits = 2):\n",
    "    qbits2 = qbits - 1\n",
    "    \n",
    "    for i in range(qbits):\n",
    "        # Por cada qubit se aplica una puerta hadamard\n",
    "        qc.H(i)\n",
    "        # Y se calcula en control en qué posición se empieza el control de rotaciones \n",
    "        control = i + 1\n",
    "        \n",
    "        # Se realizan dichas rotaciones , tantas como qbits2 diga\n",
    "        for j in range(qbits2):\n",
    "            qc.CRz(np.pi/np.power(2, (j+1)), control, i)\n",
    "            control = control + 1\n",
    "            \n",
    "        # Se añade entre grupos de rotaciones por claridad\n",
    "        if (i < qbits - 1):\n",
    "            c.add_barrier([0,1,2,3])\n",
    "        # Se calcula cuantas rotaciones tendrá el siguiente qubit (una menos que la anterior)\n",
    "        qbits2 = qbits2 - 1"
   ]
  },
  {
   "cell_type": "markdown",
   "metadata": {},
   "source": [
    "En esta práctica y para la representación de los circuitos en tket se ha utilizado tanto la función to_latex_file('name.tex') como la aplicación TexWorks para la creación de pdfs con las imágenes de los circuitos que luego se añadirán al código como png. Se adjuntaran los png devueltos para la correcta visualización de los notebook."
   ]
  },
  {
   "cell_type": "code",
   "execution_count": 3,
   "metadata": {},
   "outputs": [],
   "source": [
    "c = Circuit(4,4)\n",
    "QFT(c, qbits = 4)\n",
    "\n",
    "# Función utilizada para recuperar el circuito como archivo latex, para pasarlo pdf y por ultimo a png.\n",
    "c.to_latex_file('QFT.tex')"
   ]
  },
  {
   "cell_type": "markdown",
   "metadata": {},
   "source": [
    "![1.png](1.png)"
   ]
  },
  {
   "cell_type": "markdown",
   "metadata": {},
   "source": [
    "### AQFT"
   ]
  },
  {
   "cell_type": "markdown",
   "metadata": {},
   "source": [
    "Como se ha mencionado anteriormente, la QFT requiere realizar rotaciones controladas. El ángulo de rotación puede llegar a ser muy pequeño si tenemos muchos qubits de entrada, por lo que controlar físicamente dichas rotaciones con precisión absoluta es muy complicado.\n",
    "\n",
    "Debido a que realmente estas rotaciones tan pequeñas no contribuyen en gran medida al resultado final, se puede utilizar la QFT aproximada (AQFT). Con la que se permite un número máximo de rotaciones controladas, por ejemplo 2, como aparece en la función AQFT."
   ]
  },
  {
   "cell_type": "code",
   "execution_count": 4,
   "metadata": {},
   "outputs": [],
   "source": [
    "##AQFT\n",
    "\n",
    "# Esta función crea una transformada cuántica de Fourier aproximada para un número de qubits dado y\n",
    "# con una cantidad máxima de rotaciones 'maxc', si no se especifica se creará para dos qubits y con maxc = 2\n",
    "def AQFT(qc, qbits = 2, maxc = 2):\n",
    "    qbits2 = qbits - 1\n",
    "    \n",
    "    for i in range(qbits):\n",
    "        qc.H(i)\n",
    "        control = i + 1\n",
    "        \n",
    "        for j in range(qbits2):\n",
    "            # Solo se hacen más rotaciones controladas si no nos pasamos del máximo dado\n",
    "            if(j < maxc):\n",
    "                qc.CRz(np.pi/np.power(2, (j+1)), control, i)\n",
    "                control = control + 1\n",
    "        qbits2 = qbits2 - 1\n"
   ]
  },
  {
   "cell_type": "code",
   "execution_count": 5,
   "metadata": {},
   "outputs": [],
   "source": [
    "c = Circuit(4,4)\n",
    "AQFT(c, qbits = 4)\n",
    "\n",
    "# Función utilizada para recuperar el circuito como archivo tex para pasarlo pdf y luego a png\n",
    "c.to_latex_file('AQFT.tex')"
   ]
  },
  {
   "cell_type": "markdown",
   "metadata": {},
   "source": [
    "![2.png](2.png)"
   ]
  },
  {
   "cell_type": "markdown",
   "metadata": {},
   "source": [
    "### Sumador Cuántico"
   ]
  },
  {
   "cell_type": "markdown",
   "metadata": {},
   "source": [
    "Dados dos operandos de entrada A y B, de n qubits cada uno, la manera de realizar dicha operación es conservar uno de los dos, en este caso B y en el otro acumular los qubits para que el resultado sea A + B, así dicho circuito es reversible ya que tenemos B para aplicar la resta y recuperar A.\n",
    "\n",
    "Este sumador de Draper tiene tres fases:\n",
    "\n",
    "    - Aplicar la QFT o AQFT a A para pasar al dominio de la fase y así con el sumador y\n",
    "    sus rotaciones controladas poder influir en la salida del circuito\n",
    "\n",
    "    - La suma en el dominio de la fase. Realizada mediante rotaciones controladas, \n",
    "    siguiendo la regla en la que Bj aplica una rotación controlada al qubit Ai con \n",
    "    una rotación de π/(2^j)\n",
    "\n",
    "    - La QFT inversa (IQFT) al resultado de la suma que es lo mismo que aplicar la \n",
    "    QFT pero las puertas en el orden contrario a esta. Se utiliza para pasar de nuevo \n",
    "    al dominio de la amplitud y medir los resultados obtenidos del sumador que modifica \n",
    "    la fase."
   ]
  },
  {
   "cell_type": "code",
   "execution_count": 6,
   "metadata": {},
   "outputs": [],
   "source": [
    "##adder\n",
    "\n",
    "# Esta se realiza mediante rotaciones controladas a dos elementos con el mismo\n",
    "# número de qubits A y B siguiendo la regla en la que Bj aplica una rotación\n",
    "# controlada al qubit Ai con una rotación de π/(2^j)\n",
    "\n",
    "\n",
    "# Esta función crea un sumador para un número de qubits dado, si no se especifica \n",
    "# se creará para un sumador de dos qubits\n",
    "def adder(qc, qbits = 2):\n",
    "    qbits2 = qbits - 1\n",
    "    \n",
    "    for i in range(qbits):\n",
    "        # Se calcula en control en que qubit empezará el control de los qubits\n",
    "        control = i + qbits\n",
    "        # Se aplica la rotación Z a cada qubit de A con el que está en su misma posición en B \n",
    "        qc.CZ(control,i)\n",
    "        \n",
    "        # Se realizan el resto de rotaciones por qubit tantas como diga qbits2\n",
    "        for j in range(qbits2):\n",
    "            control = control + 1\n",
    "            qc.CRz(np.pi/np.power(2, (j+1)), control, i)\n",
    "            \n",
    "        # Se añade una barrera al final de cada grupo de rotaciones por claridad\n",
    "        if (i < qbits - 1):\n",
    "            c.add_barrier([0,1,2,3,4,5,6,7])\n",
    "        # Se calcula cuantas rotaciones tendrá el siguiente qubit (una menos que la anterior) \n",
    "        qbits2 = qbits2 - 1"
   ]
  },
  {
   "cell_type": "code",
   "execution_count": 7,
   "metadata": {},
   "outputs": [],
   "source": [
    "##IQFT\n",
    "\n",
    "# Esta función crea una transformada cuántica de Fourier inversa para un número de qubits dado, \n",
    "# si no se especifica se creará para dos qubits. Ademas añadiremos un maximo de rotaciones\n",
    "# controladas 'maxc' para poder utilizar esta función con la AQFT tambien\n",
    "def IQFT(qc, qbits = 2, maxc = 2):\n",
    "    qbits2 = 0\n",
    "    \n",
    "    for i in range(qbits):\n",
    "        control = qbits - 1\n",
    "        \n",
    "        for j in range(qbits2):\n",
    "            if(j < maxc):\n",
    "                qc.CRz(-np.pi/np.power(2, (j+1)), control, qbits - i - 1)\n",
    "                control = control - 1\n",
    "            \n",
    "        qc.H(qbits - i - 1)\n",
    "        if (i < qbits - 1):\n",
    "            c.add_barrier([0,1,2,3])\n",
    "        qbits2 = qbits2 + 1"
   ]
  },
  {
   "cell_type": "code",
   "execution_count": 8,
   "metadata": {},
   "outputs": [],
   "source": [
    "c = Circuit(8,8)\n",
    "\n",
    "c.X(1)\n",
    "c.X(2)\n",
    "c.X(3)\n",
    "c.X(6)\n",
    "\n",
    "QFT(c, qbits = 4)\n",
    "\n",
    "c.add_barrier([0,1,2,3,4,5,6,7], [0,1,2,3,4,5,6,7])\n",
    "\n",
    "adder(c, qbits = 4)\n",
    "\n",
    "c.add_barrier([0,1,2,3,4,5,6,7], [0,1,2,3,4,5,6,7])\n",
    "\n",
    "IQFT(c, qbits = 4, maxc = 3)\n",
    "\n",
    "# Función utilizada para recuperar el circuito como archivo tex para pasarlo pdf y luego a png\n",
    "c.to_latex_file('complete_adder.tex')"
   ]
  },
  {
   "cell_type": "markdown",
   "metadata": {},
   "source": [
    "![3.png](3.png)"
   ]
  },
  {
   "cell_type": "markdown",
   "metadata": {},
   "source": [
    "![4.png](4.png)"
   ]
  },
  {
   "cell_type": "markdown",
   "metadata": {},
   "source": [
    "![5.png](5.png)"
   ]
  },
  {
   "cell_type": "markdown",
   "metadata": {},
   "source": [
    "### Simulaciones"
   ]
  },
  {
   "cell_type": "markdown",
   "metadata": {},
   "source": [
    "Se realiza la simulación de la misma suma 0111 y 1000 con la AQFT y la QFT y vemos que ambas dan siempre la solución correcta ya que la AQFT es una aproximación bastante buena da la QFT en la mayoría de situaciones a partir de un determinado número de qubits ya que las rotaciones que se harán serán muy pequeñas como para afectar a la solución "
   ]
  },
  {
   "cell_type": "code",
   "execution_count": 9,
   "metadata": {},
   "outputs": [
    {
     "name": "stdout",
     "output_type": "stream",
     "text": [
      "Counter({(1, 1, 1, 1, 1, 0, 0, 0): 1000})\n"
     ]
    }
   ],
   "source": [
    "c = Circuit(8,8)\n",
    "\n",
    "c.X(1)\n",
    "c.X(2)\n",
    "c.X(3)\n",
    "c.X(4)\n",
    "\n",
    "QFT(c, qbits = 4)\n",
    "adder(c, qbits = 4)\n",
    "IQFT(c, qbits = 4)\n",
    "c.measure_all()  # medir todos los qbits(1 en este caso)\n",
    "\n",
    "b = AerBackend()                # conectar al backend\n",
    "b.compile_circuit(c)            # compilar el circuito para satisfacer las condiciones del backend\n",
    "handle = b.process_circuit(c, n_shots = 1000)  # ejecutar 1000 veces\n",
    "counts = b.get_result(handle).get_counts()   # recuperar los resultados\n",
    "print(counts)"
   ]
  },
  {
   "cell_type": "code",
   "execution_count": 10,
   "metadata": {},
   "outputs": [
    {
     "name": "stdout",
     "output_type": "stream",
     "text": [
      "Counter({(1, 1, 1, 1, 1, 0, 0, 0): 1000})\n"
     ]
    }
   ],
   "source": [
    "c = Circuit(8,8)\n",
    "\n",
    "c.X(1)\n",
    "c.X(2)\n",
    "c.X(3)\n",
    "c.X(4)\n",
    "\n",
    "AQFT(c, qbits = 4)\n",
    "adder(c, qbits = 4)\n",
    "IQFT(c, qbits = 4)\n",
    "c.measure_all()  # medir todos los qbits(1 en este caso)\n",
    "\n",
    "b = AerBackend()                # conectar al backend\n",
    "b.compile_circuit(c)            # compilar el circuito para satisfacer las condiciones del backend\n",
    "handle = b.process_circuit(c, n_shots = 1000)  # ejecutar 1000 veces\n",
    "counts = b.get_result(handle).get_counts()   # recuperar los resultados\n",
    "print(counts)"
   ]
  }
 ],
 "metadata": {
  "kernelspec": {
   "display_name": "Python 3",
   "language": "python",
   "name": "python3"
  },
  "language_info": {
   "codemirror_mode": {
    "name": "ipython",
    "version": 3
   },
   "file_extension": ".py",
   "mimetype": "text/x-python",
   "name": "python",
   "nbconvert_exporter": "python",
   "pygments_lexer": "ipython3",
   "version": "3.8.3"
  }
 },
 "nbformat": 4,
 "nbformat_minor": 5
}
