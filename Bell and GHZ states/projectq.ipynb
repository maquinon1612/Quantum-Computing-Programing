{
 "cells": [
  {
   "cell_type": "markdown",
   "metadata": {},
   "source": [
    "### Projectq"
   ]
  },
  {
   "cell_type": "markdown",
   "metadata": {},
   "source": [
    "Este entorno tiene una gran diferencia con el resto ya que la forma en la que se ponen las puertas es pasando el qbit por dicha puerta , en vez de colocarla en el camino que tomara el qbit y despues de pasarlas y medirlas te da el resultado del qbit"
   ]
  },
  {
   "cell_type": "code",
   "execution_count": 19,
   "metadata": {},
   "outputs": [
    {
     "name": "stdout",
     "output_type": "stream",
     "text": [
      "Measured 1, Measured 0, Measured 0, Measured 0, Measured 0, Measured 0, Measured 1, Measured 1, Measured 1, Measured 0\n",
      "Measured 0, Measured 1, Measured 1, Measured 0, Measured 0, Measured 0, Measured 0, Measured 1, Measured 0, Measured 0\n",
      "Measured 1, Measured 0, Measured 1, Measured 0, Measured 0, Measured 0, Measured 0, Measured 0, Measured 1, Measured 0\n",
      "Measured 1, Measured 1, Measured 1, Measured 1, Measured 1, Measured 1, Measured 1, Measured 1, Measured 1, Measured 1\n",
      "Measured 1, Measured 0, Measured 1, Measured 1, Measured 1, Measured 1, Measured 0, Measured 1, Measured 0, Measured 0\n",
      "Measured 1, Measured 0, Measured 1, Measured 1, Measured 1, Measured 0, Measured 0, Measured 1, Measured 1, Measured 1\n",
      "Measured 0, Measured 1, Measured 1, Measured 1, Measured 1, Measured 1, Measured 1, Measured 0, Measured 1, Measured 1\n",
      "Measured 0, Measured 0, Measured 1, Measured 0, Measured 1, Measured 1, Measured 0, Measured 0, Measured 0, Measured 1\n",
      "Measured 1, Measured 0, Measured 0, Measured 0, Measured 0, Measured 1, Measured 0, Measured 0, Measured 1, Measured 0\n",
      "Measured 0, Measured 1, Measured 1, Measured 0, Measured 0, Measured 0, Measured 1, Measured 0, Measured 0, Measured 0\n"
     ]
    }
   ],
   "source": [
    "from projectq import MainEngine  # Se importa el compilador principal\n",
    "from projectq.ops import H, Measure  # se importan las operaciones a realizar (Hadamard y Medicion)\n",
    "\n",
    "eng = MainEngine()  # crear un compildor\n",
    "qubit = eng.allocate_qubit()  # se asigna el qbit \n",
    "\n",
    "for num in range(100):\n",
    "    H | qubit  # se aplica la puerta Hadamard\n",
    "    Measure | qubit  # se mide el qbit resultante\n",
    "    eng.flush()  # se liberan las puertas y se mide\n",
    "    print(\"Measured {}\".format(int(qubit)))  # resultado\n"
   ]
  }
 ],
 "metadata": {
  "kernelspec": {
   "display_name": "Python 3",
   "language": "python",
   "name": "python3"
  },
  "language_info": {
   "codemirror_mode": {
    "name": "ipython",
    "version": 3
   },
   "file_extension": ".py",
   "mimetype": "text/x-python",
   "name": "python",
   "nbconvert_exporter": "python",
   "pygments_lexer": "ipython3",
   "version": "3.8.3"
  }
 },
 "nbformat": 4,
 "nbformat_minor": 5
}
