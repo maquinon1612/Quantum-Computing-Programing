{
 "cells": [
  {
   "cell_type": "markdown",
   "metadata": {},
   "source": [
    "### Forest"
   ]
  },
  {
   "cell_type": "markdown",
   "metadata": {},
   "source": [
    "Las diferencias entre este entorno y el resto es la necesidad de comprovar si se puede utilizar qvm y quilic antes de ejecutar el programa y que no hace falta añadir una puerta de medicion en el circuito ademas de existir una funcion que ejecuta y mide el circuito al mismo tiempo"
   ]
  },
  {
   "cell_type": "code",
   "execution_count": 22,
   "metadata": {},
   "outputs": [
    {
     "name": "stdout",
     "output_type": "stream",
     "text": [
      "[0 1] [501 499]\n"
     ]
    }
   ],
   "source": [
    "import numpy as np\n",
    "from pyquil import Program, get_qc\n",
    "from pyquil.gates import *\n",
    "from pyquil.api import local_forest_runtime\n",
    "\n",
    "# construir la puerta Hadamard para el circuito\n",
    "p = Program(H(0))\n",
    "\n",
    "#check make sure of qvm and quilc availability and run the program on a QVM\n",
    "with local_forest_runtime():\n",
    "    qc = get_qc('9q-square-qvm')\n",
    "    result = qc.run_and_measure(p, trials=1000)\n",
    "    \n",
    "unique, counts = np.unique(result[0], return_counts=True)\n",
    "print(unique, counts)"
   ]
  }
 ],
 "metadata": {
  "kernelspec": {
   "display_name": "Python 3",
   "language": "python",
   "name": "python3"
  },
  "language_info": {
   "codemirror_mode": {
    "name": "ipython",
    "version": 3
   },
   "file_extension": ".py",
   "mimetype": "text/x-python",
   "name": "python",
   "nbconvert_exporter": "python",
   "pygments_lexer": "ipython3",
   "version": "3.8.3"
  }
 },
 "nbformat": 4,
 "nbformat_minor": 5
}
