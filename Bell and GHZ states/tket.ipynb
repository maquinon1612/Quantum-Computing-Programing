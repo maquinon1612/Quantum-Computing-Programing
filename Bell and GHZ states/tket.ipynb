{
 "cells": [
  {
   "cell_type": "markdown",
   "metadata": {},
   "source": [
    "### tket"
   ]
  },
  {
   "cell_type": "markdown",
   "metadata": {},
   "source": [
    "Este entorno tiene muchas similitudes con qiskit y ademas utilizo el backend utilizado en ese mismo entorno (Aer) , las diferencias notorias son la existencia de una funcion para medir todas las puertas que haya y que para poder ejecutar dicho circuito hay que compilarlo antes para satisfacer al backend"
   ]
  },
  {
   "cell_type": "code",
   "execution_count": 35,
   "metadata": {},
   "outputs": [
    {
     "name": "stdout",
     "output_type": "stream",
     "text": [
      "Counter({(1,): 506, (0,): 494})\n"
     ]
    }
   ],
   "source": [
    "from pytket import Circuit\n",
    "from pytket.backends.ibm import AerBackend\n",
    "c = Circuit(1,1) # definir el circuito cin 1 qubit y 1 bit\n",
    "c.H(0)           # añadir la Hadamerd al qbit\n",
    "c.measure_all()  # medir todos los qbits(1 en este caso)\n",
    "\n",
    "b = AerBackend()                # conectar al backend\n",
    "b.compile_circuit(c)            # compilar el circuito para satisfacer las condiciones del backend\n",
    "handle = b.process_circuit(c, n_shots = 1000)  # ejecutar 100 veces\n",
    "counts = b.get_result(handle).get_counts()   # recuperar los resultados\n",
    "print(counts)"
   ]
  }
 ],
 "metadata": {
  "kernelspec": {
   "display_name": "Python 3",
   "language": "python",
   "name": "python3"
  },
  "language_info": {
   "codemirror_mode": {
    "name": "ipython",
    "version": 3
   },
   "file_extension": ".py",
   "mimetype": "text/x-python",
   "name": "python",
   "nbconvert_exporter": "python",
   "pygments_lexer": "ipython3",
   "version": "3.8.3"
  }
 },
 "nbformat": 4,
 "nbformat_minor": 5
}
