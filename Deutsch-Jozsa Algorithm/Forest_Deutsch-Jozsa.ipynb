{
 "cells": [
  {
   "cell_type": "markdown",
   "id": "c6ffdc65",
   "metadata": {},
   "source": [
    "# La QFT y sumadores cuánticos\n",
    "\n",
    "\n",
    "\n",
    "Mario Quiñones Pérez\n",
    "\n",
    "# Forest"
   ]
  },
  {
   "cell_type": "code",
   "execution_count": 1,
   "id": "8b76ac4e",
   "metadata": {},
   "outputs": [],
   "source": [
    "from pyquil import get_qc, Program\n",
    "from pyquil.api import QVMConnection\n",
    "from pyquil.gates import *\n",
    "from pyquil import latex\n",
    "from pyquil.api import local_forest_runtime\n",
    "from pyquil import get_qc, Program"
   ]
  },
  {
   "cell_type": "markdown",
   "id": "55167394",
   "metadata": {},
   "source": [
    "Para la creación de circuitos se usará la función latex.to_latex(Program()), pero al crear esta función un string que pasar a TexWorks, solo se usará una vez como ejemplo para no ensuciar la memoria."
   ]
  },
  {
   "cell_type": "markdown",
   "id": "73138fb3",
   "metadata": {},
   "source": [
    "## Algoritmo de Deutsch"
   ]
  },
  {
   "cell_type": "markdown",
   "id": "10ca18eb",
   "metadata": {},
   "source": [
    "El problema trata de que se nos da un circuito (Oráculo) que implementa una función booleana de un bit y hay que determinar si la función es constante(mismo valor para todas las entradas) o balanceada (1 en una entrada y 0 en la otra).\n",
    "\n",
    "\n",
    "En el escenario clásico, necesitaríamos consultar esta caja negra dos veces, para calcular ambos valores de la función midiendo f(0) y luego f(1).\n",
    "\n",
    "\n",
    "En el escenario cuántico, podemos hacerlo con solo una evaluación, en superposición, y utilizando el entrelazamiento y al final interferencia.\n",
    "\n",
    "\n",
    "Este circuito calcula, de forma reversible (algo que se debe cumplir para todo circuito cuántico), una cierta función f (en este caso, de una sola entrada)\n",
    "\n",
    "    Si la función es constante, mediremos “0”\n",
    "    Si la función es balanceada mediremos “1”\n",
    "\n",
    "El algoritmo de Deutsch explota un fenómeno de interferencia similar al encontrado en algunos experimentos físicos. Por ejemplo el experimento de la doble rendija o Interferómetro de Mach-Zehnder."
   ]
  },
  {
   "cell_type": "markdown",
   "id": "53ef35e8",
   "metadata": {},
   "source": [
    "Creamos los siguientes oraculos para la prueba de el algoritmo de Deutsch"
   ]
  },
  {
   "cell_type": "code",
   "execution_count": 2,
   "id": "88646a72",
   "metadata": {},
   "outputs": [],
   "source": [
    "def NOT(p):\n",
    "    p += X(1)"
   ]
  },
  {
   "cell_type": "code",
   "execution_count": 3,
   "id": "3832f7b1",
   "metadata": {},
   "outputs": [],
   "source": [
    "def CNOTs(p):\n",
    "    p += CNOT(0,1)"
   ]
  },
  {
   "cell_type": "code",
   "execution_count": 4,
   "id": "b839532e",
   "metadata": {},
   "outputs": [],
   "source": [
    "def NOTCNOT(p):\n",
    "    p += X(0)\n",
    "    p += CNOT(0,1)\n",
    "    p += X(0)"
   ]
  },
  {
   "cell_type": "markdown",
   "id": "47eb9fff",
   "metadata": {},
   "source": [
    "Creamos el circuito para la comprobación de un oráculo, en este añadimos un qubit auxiliar que inicializamos a |1> y pondremos ambos eb superposición pasandolos al estado |+> y |-> con las puertas Hadamard. Pasaremos estos qubits por el oráculo y tras este paso deshacemos la superposición y medimos el qubit q0 que es el que nos interesa\n",
    "\n",
    "Este será la única parte de la memoria en la que se mostrará el código generado por la función latex.to_latex(p)."
   ]
  },
  {
   "cell_type": "code",
   "execution_count": 5,
   "id": "79b703be",
   "metadata": {
    "scrolled": true
   },
   "outputs": [
    {
     "name": "stdout",
     "output_type": "stream",
     "text": [
      "\\documentclass[convert={density=300,outext=.png}]{standalone}\n",
      "\\usepackage[margin=1in]{geometry}\n",
      "\\usepackage{tikz}\n",
      "\\usetikzlibrary{quantikz}\n",
      "\\begin{document}\n",
      "\\begin{tikzcd}\n",
      "\\lstick{\\ket{q_{0}}} & \\gate{H} & \\gate{X} & \\ctrl{1} & \\gate{X} & \\gate{H} & \\meter{} & \\qw \\\\\n",
      "\\lstick{\\ket{q_{1}}} & \\gate{X} & \\gate{H} & \\targ{} & \\qw & \\qw & \\qw & \\qw\n",
      "\\end{tikzcd}\n",
      "\\end{document}\n",
      "DECLARE ro BIT[1]\n",
      "X 1\n",
      "H 0\n",
      "H 1\n",
      "FENCE\n",
      "X 0\n",
      "CNOT 0 1\n",
      "X 0\n",
      "FENCE\n",
      "H 0\n",
      "MEASURE 0 ro[0]\n",
      "\n"
     ]
    }
   ],
   "source": [
    "p = Program()\n",
    "ro = p.declare('ro', 'BIT', 1)\n",
    "\n",
    "p += X(1)\n",
    "p += H(0)\n",
    "p += H(1)\n",
    "\n",
    "p += FENCE()\n",
    "\n",
    "NOTCNOT(p)\n",
    "\n",
    "p += FENCE()\n",
    "\n",
    "p += H(0)\n",
    "p += MEASURE(0, ro[0])\n",
    "\n",
    "print(p)"
   ]
  },
  {
   "cell_type": "markdown",
   "id": "c27cc9df",
   "metadata": {},
   "source": [
    "![1.png](1.png)"
   ]
  },
  {
   "cell_type": "markdown",
   "id": "1a3e4509",
   "metadata": {},
   "source": [
    "### Simulaciones"
   ]
  },
  {
   "cell_type": "markdown",
   "id": "215db9d3",
   "metadata": {},
   "source": [
    "Vemos que para la simulación con un oraculo balanceado como \"NOTCNOT\" la salida sale 1 mientras que para un oraculo constante como la identidad la salida sale siempre 0"
   ]
  },
  {
   "cell_type": "code",
   "execution_count": 11,
   "id": "807217fd",
   "metadata": {},
   "outputs": [
    {
     "name": "stdout",
     "output_type": "stream",
     "text": [
      "[[0]]\n"
     ]
    }
   ],
   "source": [
    "p = Program()\n",
    "ro = p.declare('ro', 'BIT', 1)\n",
    "\n",
    "p += X(1)\n",
    "p += H(0)\n",
    "p += H(1)\n",
    "\n",
    "\n",
    "p += H(0)\n",
    "p += MEASURE(0, ro[0])\n",
    "\n",
    "\n",
    "qc = get_qc('2q-qvm')\n",
    "executable = qc.compile(p)\n",
    "result = qc.run(executable)\n",
    "   \n",
    "print(result)"
   ]
  },
  {
   "cell_type": "code",
   "execution_count": 12,
   "id": "a748e863",
   "metadata": {},
   "outputs": [
    {
     "name": "stdout",
     "output_type": "stream",
     "text": [
      "[[1]]\n"
     ]
    }
   ],
   "source": [
    "p = Program()\n",
    "ro = p.declare('ro', 'BIT', 1)\n",
    "\n",
    "p += X(1)\n",
    "p += H(0)\n",
    "p += H(1)\n",
    "\n",
    "\n",
    "NOTCNOT(p)\n",
    "\n",
    "\n",
    "p += H(0)\n",
    "p += MEASURE(0, ro[0])\n",
    "\n",
    "\n",
    "qc = get_qc('2q-qvm')\n",
    "executable = qc.compile(p)\n",
    "result = qc.run(executable)\n",
    "   \n",
    "print(result)"
   ]
  },
  {
   "cell_type": "markdown",
   "id": "c61c11ab",
   "metadata": {},
   "source": [
    "## Algoritmo de Deutsch-Jozsa"
   ]
  },
  {
   "cell_type": "markdown",
   "id": "0d4fd346",
   "metadata": {},
   "source": [
    "El algoritmo Deutsch-Jozsa resuelve un tipo de problema llamados de consulta, oráculo o de promesa.\n",
    "\n",
    "Se nos da una función booleana f de más de un parámetro y se nos promete que es constante o balanceado (0 para la mitad de las entradas y 1 para el resto).  Tenemos que averiguar cual de las dos es llamando a la función el menor número de veces posible.\n",
    "\n",
    "Mientras que con un algoritmo determinista clásico necesitamos (en el peor caso) 2(n-1) + 1 llamadas a f, con el algoritmo cuántico Deutsch-Jozsa es suficiente evaluarlo una vez.\n",
    "\n"
   ]
  },
  {
   "cell_type": "markdown",
   "id": "c9bd9f9c",
   "metadata": {},
   "source": [
    "1. Creamos el estado | (0^n) 1 >\n",
    "2. Usamos H para crear superposición\n",
    "3. Aplicamos el oráculo\n",
    "4. Aplicamos de nuevo H a los n primeros qbits\n",
    "5. Medimos los n primeros qbits\n",
    "\n",
    "Si la función es constante, obtendremos 0 y si es balanceada, obtendremos una cadena distinta. \n"
   ]
  },
  {
   "cell_type": "markdown",
   "id": "2d0fc7b7",
   "metadata": {},
   "source": [
    "Utilizaremos la función prepare para preparar un circuito a partir de una cantidad de qubits cualesquiera \"n\" en un circuito \"p\". Se añadirá un qubit auxiliar inicializado a uno y se pondrán todos en superposición."
   ]
  },
  {
   "cell_type": "code",
   "execution_count": 8,
   "id": "57770cd0",
   "metadata": {},
   "outputs": [],
   "source": [
    "def prepare(p, n):\n",
    "    p += X(n)\n",
    "\n",
    "    for i in range(n + 1):\n",
    "        p += H(i)\n",
    "        \n",
    "    return p"
   ]
  },
  {
   "cell_type": "markdown",
   "id": "329cd007",
   "metadata": {},
   "source": [
    "Utilizaremos la función end quitar los n primeros qubits del circuito de superposición y añadir mediciones a todos los qubits menos al último."
   ]
  },
  {
   "cell_type": "code",
   "execution_count": 9,
   "id": "d39a1124",
   "metadata": {},
   "outputs": [],
   "source": [
    "def end(p, n, ro):\n",
    "\n",
    "    for i in range(n):\n",
    "        p += H(i)\n",
    "        \n",
    "    lista = list(range(n))\n",
    "        \n",
    "    for i, q in enumerate(lista):\n",
    "        p += MEASURE(q, ro[i])"
   ]
  },
  {
   "cell_type": "markdown",
   "id": "0e34d289",
   "metadata": {},
   "source": [
    "He creado una serie de oráculos basándose en ejercicios dados y aquellos ya mostrados en clase."
   ]
  },
  {
   "cell_type": "code",
   "execution_count": 10,
   "id": "25373b9d",
   "metadata": {},
   "outputs": [],
   "source": [
    "def ejercicio1(p, n):\n",
    "    for i in range(n):\n",
    "        p += CNOT(i, n)\n",
    "        p += X(i)\n",
    "        p += CNOT(i, n)"
   ]
  },
  {
   "cell_type": "code",
   "execution_count": 11,
   "id": "6357e18c",
   "metadata": {},
   "outputs": [],
   "source": [
    "def ejercicio2(p, n):\n",
    "        p += CNOT(2, n)\n",
    "        p += CNOT(1, n)\n",
    "        p += CCNOT(0, 1, n)"
   ]
  },
  {
   "cell_type": "code",
   "execution_count": 12,
   "id": "146164f3",
   "metadata": {},
   "outputs": [],
   "source": [
    "def cnots(p, n):\n",
    "    for i in range(n):\n",
    "        p += CNOT(i, n)"
   ]
  },
  {
   "cell_type": "code",
   "execution_count": 13,
   "id": "b1d081f0",
   "metadata": {},
   "outputs": [],
   "source": [
    "def Rcnots(p, n):\n",
    "    for i in range(n):\n",
    "        p += CNOT((n-1) - i,n)"
   ]
  },
  {
   "cell_type": "code",
   "execution_count": 14,
   "id": "811c7922",
   "metadata": {
    "scrolled": true
   },
   "outputs": [
    {
     "name": "stdout",
     "output_type": "stream",
     "text": [
      "DECLARE ro BIT[3]\n",
      "X 3\n",
      "H 0\n",
      "H 1\n",
      "H 2\n",
      "H 3\n",
      "FENCE\n",
      "CNOT 0 3\n",
      "X 0\n",
      "CNOT 0 3\n",
      "CNOT 1 3\n",
      "X 1\n",
      "CNOT 1 3\n",
      "CNOT 2 3\n",
      "X 2\n",
      "CNOT 2 3\n",
      "FENCE\n",
      "H 0\n",
      "H 1\n",
      "H 2\n",
      "MEASURE 0 ro[0]\n",
      "MEASURE 1 ro[1]\n",
      "MEASURE 2 ro[2]\n",
      "\n"
     ]
    }
   ],
   "source": [
    "n = 3\n",
    "p = Program()\n",
    "ro = p.declare('ro', 'BIT', n)\n",
    "\n",
    "prepare(p, n)\n",
    "\n",
    "p += FENCE()\n",
    "\n",
    "ejercicio1(p, n)\n",
    "\n",
    "p += FENCE()\n",
    "\n",
    "end(p, n, ro)\n",
    "\n",
    "print(p)"
   ]
  },
  {
   "cell_type": "markdown",
   "id": "8ac83c06",
   "metadata": {},
   "source": [
    "![2.png](2.png)"
   ]
  },
  {
   "cell_type": "code",
   "execution_count": 15,
   "id": "b7136320",
   "metadata": {
    "scrolled": true
   },
   "outputs": [
    {
     "name": "stdout",
     "output_type": "stream",
     "text": [
      "DECLARE ro BIT[3]\n",
      "X 3\n",
      "H 0\n",
      "H 1\n",
      "H 2\n",
      "H 3\n",
      "FENCE\n",
      "CNOT 2 3\n",
      "CNOT 1 3\n",
      "CCNOT 0 1 3\n",
      "FENCE\n",
      "H 0\n",
      "H 1\n",
      "H 2\n",
      "MEASURE 0 ro[0]\n",
      "MEASURE 1 ro[1]\n",
      "MEASURE 2 ro[2]\n",
      "\n"
     ]
    }
   ],
   "source": [
    "n = 3\n",
    "p = Program()\n",
    "ro = p.declare('ro', 'BIT', n)\n",
    "\n",
    "prepare(p, n)\n",
    "\n",
    "p += FENCE()\n",
    "\n",
    "ejercicio2(p, n)\n",
    "\n",
    "p += FENCE()\n",
    "\n",
    "end(p, n, ro)\n",
    "\n",
    "print(p)"
   ]
  },
  {
   "cell_type": "markdown",
   "id": "f891b9c3",
   "metadata": {},
   "source": [
    "![3.png](3.png)"
   ]
  },
  {
   "cell_type": "markdown",
   "id": "68582c8a",
   "metadata": {},
   "source": [
    "### Simulaciones"
   ]
  },
  {
   "cell_type": "markdown",
   "id": "b09bd137",
   "metadata": {},
   "source": [
    "Como podemos comprobar en las siguientes ejecuciones, las funciones cuya salida para todos los qubits es siempre |0> son constantes, mientras que aquellas cuya salida es distinta de este valor son balanceadas."
   ]
  },
  {
   "cell_type": "code",
   "execution_count": 16,
   "id": "35b961d3",
   "metadata": {},
   "outputs": [
    {
     "name": "stdout",
     "output_type": "stream",
     "text": [
      "[[0 0 0 0]]\n"
     ]
    }
   ],
   "source": [
    "n = 4\n",
    "p = Program()\n",
    "ro = p.declare('ro', 'BIT', n)\n",
    "\n",
    "prepare(p, n)\n",
    "\n",
    "ejercicio1(p, n)\n",
    "\n",
    "end(p, n, ro)\n",
    "\n",
    "qc = get_qc('5q-qvm')\n",
    "executable = qc.compile(p)\n",
    "result = qc.run(executable)\n",
    "    \n",
    "\n",
    "print(result)"
   ]
  },
  {
   "cell_type": "code",
   "execution_count": 17,
   "id": "2f539fea",
   "metadata": {},
   "outputs": [
    {
     "name": "stdout",
     "output_type": "stream",
     "text": [
      "[[1 0 1 0]]\n"
     ]
    }
   ],
   "source": [
    "n = 4\n",
    "p = Program()\n",
    "ro = p.declare('ro', 'BIT', n)\n",
    "\n",
    "prepare(p, n)\n",
    "\n",
    "ejercicio2(p, n)\n",
    "\n",
    "end(p, n, ro)\n",
    "\n",
    "qc = get_qc('5q-qvm')\n",
    "executable = qc.compile(p)\n",
    "result = qc.run(executable)\n",
    "    \n",
    "\n",
    "print(result)"
   ]
  },
  {
   "cell_type": "code",
   "execution_count": 18,
   "id": "9ff43f95",
   "metadata": {},
   "outputs": [
    {
     "name": "stdout",
     "output_type": "stream",
     "text": [
      "[[1 1 1 1]]\n"
     ]
    }
   ],
   "source": [
    "n = 4\n",
    "p = Program()\n",
    "ro = p.declare('ro', 'BIT', n)\n",
    "\n",
    "prepare(p, n)\n",
    "\n",
    "cnots(p, n)\n",
    "\n",
    "end(p, n, ro)\n",
    "\n",
    "qc = get_qc('5q-qvm')\n",
    "executable = qc.compile(p)\n",
    "result = qc.run(executable)\n",
    "    \n",
    "\n",
    "print(result)"
   ]
  },
  {
   "cell_type": "code",
   "execution_count": 27,
   "id": "4d89335b",
   "metadata": {},
   "outputs": [
    {
     "name": "stdout",
     "output_type": "stream",
     "text": [
      "[[1 1 1 1]]\n"
     ]
    }
   ],
   "source": [
    "n = 4\n",
    "p = Program()\n",
    "ro = p.declare('ro', 'BIT', n)\n",
    "\n",
    "prepare(p, n)\n",
    "\n",
    "Rcnots(p, n)\n",
    "\n",
    "end(p, n, ro)\n",
    "\n",
    "qc = get_qc('5q-qvm')\n",
    "executable = qc.compile(p)\n",
    "result = qc.run(executable)\n",
    "    \n",
    "\n",
    "print(result)"
   ]
  }
 ],
 "metadata": {
  "kernelspec": {
   "display_name": "Python 3",
   "language": "python",
   "name": "python3"
  },
  "language_info": {
   "codemirror_mode": {
    "name": "ipython",
    "version": 3
   },
   "file_extension": ".py",
   "mimetype": "text/x-python",
   "name": "python",
   "nbconvert_exporter": "python",
   "pygments_lexer": "ipython3",
   "version": "3.8.3"
  }
 },
 "nbformat": 4,
 "nbformat_minor": 5
}
