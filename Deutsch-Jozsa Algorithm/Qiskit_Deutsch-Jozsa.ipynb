{
 "cells": [
  {
   "cell_type": "markdown",
   "id": "73aa8911",
   "metadata": {},
   "source": [
    "# Qiskit"
   ]
  },
  {
   "cell_type": "markdown",
   "id": "e4fbe8d5",
   "metadata": {},
   "source": [
    "Ahora realizaremos el mismo procedimiento pero con qiskit. Se evitarán repetición de explicaciones para hacer más amena la memoria"
   ]
  },
  {
   "cell_type": "code",
   "execution_count": 1,
   "id": "5232abc3",
   "metadata": {},
   "outputs": [],
   "source": [
    "from qiskit import QuantumCircuit\n",
    "from qiskit import IBMQ, Aer, transpile, assemble\n",
    "from qiskit.visualization import plot_histogram\n",
    "from qiskit.extensions import Initialize\n",
    "import numpy as np"
   ]
  },
  {
   "cell_type": "markdown",
   "id": "9666a579",
   "metadata": {},
   "source": [
    "## Algoritmo de Deutsch"
   ]
  },
  {
   "cell_type": "code",
   "execution_count": 2,
   "id": "9930155b",
   "metadata": {},
   "outputs": [],
   "source": [
    "def I(qc):\n",
    "    return"
   ]
  },
  {
   "cell_type": "code",
   "execution_count": 3,
   "id": "6b4768df",
   "metadata": {},
   "outputs": [],
   "source": [
    "def CNOT(qc):\n",
    "    qc.cx(0,1)"
   ]
  },
  {
   "cell_type": "code",
   "execution_count": 4,
   "id": "cebb9161",
   "metadata": {},
   "outputs": [],
   "source": [
    "def NOT(qc):\n",
    "    qc.x(1)"
   ]
  },
  {
   "cell_type": "code",
   "execution_count": 5,
   "id": "2a1dd5a2",
   "metadata": {},
   "outputs": [],
   "source": [
    "def NOTCNOT(qc):\n",
    "    qc.x(0)\n",
    "    qc.cx(0,1)\n",
    "    qc.x(0)"
   ]
  },
  {
   "cell_type": "code",
   "execution_count": 6,
   "id": "6e1d0f67",
   "metadata": {},
   "outputs": [
    {
     "data": {
      "text/html": [
       "<pre style=\"word-wrap: normal;white-space: pre;background: #fff0;line-height: 1.1;font-family: &quot;Courier New&quot;,Courier,monospace\">     ┌───┐      ░ ┌───┐     ┌───┐ ░ ┌───┐┌─┐\n",
       "q_0: ┤ H ├──────░─┤ X ├──■──┤ X ├─░─┤ H ├┤M├\n",
       "     ├───┤┌───┐ ░ └───┘┌─┴─┐└───┘ ░ └───┘└╥┘\n",
       "q_1: ┤ X ├┤ H ├─░──────┤ X ├──────░───────╫─\n",
       "     └───┘└───┘ ░      └───┘      ░       ║ \n",
       "c: 1/═════════════════════════════════════╩═\n",
       "                                          0 </pre>"
      ],
      "text/plain": [
       "     ┌───┐      ░ ┌───┐     ┌───┐ ░ ┌───┐┌─┐\n",
       "q_0: ┤ H ├──────░─┤ X ├──■──┤ X ├─░─┤ H ├┤M├\n",
       "     ├───┤┌───┐ ░ └───┘┌─┴─┐└───┘ ░ └───┘└╥┘\n",
       "q_1: ┤ X ├┤ H ├─░──────┤ X ├──────░───────╫─\n",
       "     └───┘└───┘ ░      └───┘      ░       ║ \n",
       "c: 1/═════════════════════════════════════╩═\n",
       "                                          0 "
      ]
     },
     "execution_count": 6,
     "metadata": {},
     "output_type": "execute_result"
    }
   ],
   "source": [
    "qc = QuantumCircuit(2,1)\n",
    "qc.x(1)\n",
    "qc.h(0)\n",
    "qc.h(1)\n",
    "\n",
    "qc.barrier()\n",
    "\n",
    "NOTCNOT(qc)\n",
    "\n",
    "qc.barrier()\n",
    "\n",
    "qc.h(0)\n",
    "qc.measure([0], [0])\n",
    "qc.draw()"
   ]
  },
  {
   "cell_type": "markdown",
   "id": "bad79498",
   "metadata": {},
   "source": [
    "### Simulaciones"
   ]
  },
  {
   "cell_type": "code",
   "execution_count": 7,
   "id": "0a644eaf",
   "metadata": {},
   "outputs": [
    {
     "data": {
      "image/png": "[encoded data removed]",
      "text/plain": [
       "<Figure size 504x360 with 1 Axes>"
      ]
     },
     "execution_count": 7,
     "metadata": {},
     "output_type": "execute_result"
    }
   ],
   "source": [
    "qc = QuantumCircuit(2,1)\n",
    "qc.x(1)\n",
    "qc.h(0)\n",
    "qc.h(1)\n",
    "\n",
    "qc.barrier()\n",
    "\n",
    "NOT(qc)\n",
    "\n",
    "qc.barrier()\n",
    "\n",
    "qc.h(0)\n",
    "qc.measure([0], [0])\n",
    "\n",
    "# Simulamos el circuito 1000 veces y mostramos el resultado en un histograma\n",
    "qasm_sim = Aer.get_backend('qasm_simulator')\n",
    "qc = transpile(qc, qasm_sim)\n",
    "qobj = assemble(qc)\n",
    "\n",
    "\n",
    "result = qasm_sim.run(qc).result()\n",
    "\n",
    "counts = result.get_counts(qc)\n",
    "plot_histogram(counts, title='Salida de la suma 01 y 10')"
   ]
  },
  {
   "cell_type": "markdown",
   "id": "e1e4e6c4",
   "metadata": {},
   "source": [
    "## Algoritmo de Deutsch-Jozsa"
   ]
  },
  {
   "cell_type": "code",
   "execution_count": 8,
   "id": "6b2c0b38",
   "metadata": {},
   "outputs": [],
   "source": [
    "def prepare(n):\n",
    "    qc = QuantumCircuit(n + 1,n)\n",
    "    qc.x(n)\n",
    "\n",
    "    for i in range(n + 1):\n",
    "        qc.h(i)\n",
    "        \n",
    "    return qc"
   ]
  },
  {
   "cell_type": "code",
   "execution_count": 9,
   "id": "f804d794",
   "metadata": {},
   "outputs": [],
   "source": [
    "def end(qc, n):\n",
    "\n",
    "    for i in range(n):\n",
    "        qc.h(i)\n",
    "        \n",
    "    lista = list(range(n))\n",
    "    qc.measure(lista,lista[::-1])"
   ]
  },
  {
   "cell_type": "code",
   "execution_count": 10,
   "id": "a79c1ab2",
   "metadata": {},
   "outputs": [],
   "source": [
    "def ejercicio1(qc, n):\n",
    "    for i in range(n):\n",
    "        qc.cx(i,n)\n",
    "        qc.x(i)\n",
    "        qc.cx(i,n)"
   ]
  },
  {
   "cell_type": "code",
   "execution_count": 11,
   "id": "dc089627",
   "metadata": {},
   "outputs": [],
   "source": [
    "def cnots(qc, n):\n",
    "    for i in range(n):\n",
    "        qc.cx(i,n)"
   ]
  },
  {
   "cell_type": "code",
   "execution_count": 12,
   "id": "ed8bcf6a",
   "metadata": {},
   "outputs": [],
   "source": [
    "def Rcnots(qc, n):\n",
    "    for i in range(n):\n",
    "        qc.cx((n-1) - i,n)"
   ]
  },
  {
   "cell_type": "code",
   "execution_count": 13,
   "id": "3e4fc239",
   "metadata": {},
   "outputs": [],
   "source": [
    "def ejercicio2(qc, n):\n",
    "        qc.cx(2,n)\n",
    "        qc.cx(1,n)\n",
    "        qc.ccx(0,1,n)"
   ]
  },
  {
   "cell_type": "code",
   "execution_count": 15,
   "id": "6e12bb8d",
   "metadata": {},
   "outputs": [
    {
     "data": {
      "text/html": [
       "<pre style=\"word-wrap: normal;white-space: pre;background: #fff0;line-height: 1.1;font-family: &quot;Courier New&quot;,Courier,monospace\">     ┌───┐      ░      ┌───┐                                    ░ ┌───┐┌─┐   »\n",
       "q_0: ┤ H ├──────░───■──┤ X ├──■─────────────────────────────────░─┤ H ├┤M├───»\n",
       "     ├───┤      ░   │  └───┘  │       ┌───┐                     ░ ├───┤└╥┘┌─┐»\n",
       "q_1: ┤ H ├──────░───┼─────────┼────■──┤ X ├──■──────────────────░─┤ H ├─╫─┤M├»\n",
       "     ├───┤      ░   │         │    │  └───┘  │       ┌───┐      ░ ├───┤ ║ └╥┘»\n",
       "q_2: ┤ H ├──────░───┼─────────┼────┼─────────┼────■──┤ X ├──■───░─┤ H ├─╫──╫─»\n",
       "     ├───┤┌───┐ ░ ┌─┴─┐     ┌─┴─┐┌─┴─┐     ┌─┴─┐┌─┴─┐└───┘┌─┴─┐ ░ └───┘ ║  ║ »\n",
       "q_3: ┤ X ├┤ H ├─░─┤ X ├─────┤ X ├┤ X ├─────┤ X ├┤ X ├─────┤ X ├─░───────╫──╫─»\n",
       "     └───┘└───┘ ░ └───┘     └───┘└───┘     └───┘└───┘     └───┘ ░       ║  ║ »\n",
       "c: 3/═══════════════════════════════════════════════════════════════════╩══╩═»\n",
       "                                                                        2  1 »\n",
       "«        \n",
       "«q_0: ───\n",
       "«        \n",
       "«q_1: ───\n",
       "«     ┌─┐\n",
       "«q_2: ┤M├\n",
       "«     └╥┘\n",
       "«q_3: ─╫─\n",
       "«      ║ \n",
       "«c: 3/═╩═\n",
       "«      0 </pre>"
      ],
      "text/plain": [
       "     ┌───┐      ░      ┌───┐                                    ░ ┌───┐┌─┐   »\n",
       "q_0: ┤ H ├──────░───■──┤ X ├──■─────────────────────────────────░─┤ H ├┤M├───»\n",
       "     ├───┤      ░   │  └───┘  │       ┌───┐                     ░ ├───┤└╥┘┌─┐»\n",
       "q_1: ┤ H ├──────░───┼─────────┼────■──┤ X ├──■──────────────────░─┤ H ├─╫─┤M├»\n",
       "     ├───┤      ░   │         │    │  └───┘  │       ┌───┐      ░ ├───┤ ║ └╥┘»\n",
       "q_2: ┤ H ├──────░───┼─────────┼────┼─────────┼────■──┤ X ├──■───░─┤ H ├─╫──╫─»\n",
       "     ├───┤┌───┐ ░ ┌─┴─┐     ┌─┴─┐┌─┴─┐     ┌─┴─┐┌─┴─┐└───┘┌─┴─┐ ░ └───┘ ║  ║ »\n",
       "q_3: ┤ X ├┤ H ├─░─┤ X ├─────┤ X ├┤ X ├─────┤ X ├┤ X ├─────┤ X ├─░───────╫──╫─»\n",
       "     └───┘└───┘ ░ └───┘     └───┘└───┘     └───┘└───┘     └───┘ ░       ║  ║ »\n",
       "c: 3/═══════════════════════════════════════════════════════════════════╩══╩═»\n",
       "                                                                        2  1 »\n",
       "«        \n",
       "«q_0: ───\n",
       "«        \n",
       "«q_1: ───\n",
       "«     ┌─┐\n",
       "«q_2: ┤M├\n",
       "«     └╥┘\n",
       "«q_3: ─╫─\n",
       "«      ║ \n",
       "«c: 3/═╩═\n",
       "«      0 "
      ]
     },
     "execution_count": 15,
     "metadata": {},
     "output_type": "execute_result"
    }
   ],
   "source": [
    "n = 3\n",
    "\n",
    "qc = prepare(n)\n",
    "\n",
    "qc.barrier()\n",
    "\n",
    "ejercicio1(qc, n)\n",
    "\n",
    "qc.barrier()\n",
    "\n",
    "end(qc, n)\n",
    "\n",
    "qc.draw()"
   ]
  },
  {
   "cell_type": "code",
   "execution_count": 16,
   "id": "a4c1c8e5",
   "metadata": {},
   "outputs": [
    {
     "data": {
      "text/html": [
       "<pre style=\"word-wrap: normal;white-space: pre;background: #fff0;line-height: 1.1;font-family: &quot;Courier New&quot;,Courier,monospace\">     ┌───┐      ░                 ░ ┌───┐┌─┐      \n",
       "q_0: ┤ H ├──────░─────────────■───░─┤ H ├┤M├──────\n",
       "     ├───┤      ░             │   ░ ├───┤└╥┘┌─┐   \n",
       "q_1: ┤ H ├──────░────────■────■───░─┤ H ├─╫─┤M├───\n",
       "     ├───┤      ░        │    │   ░ ├───┤ ║ └╥┘┌─┐\n",
       "q_2: ┤ H ├──────░───■────┼────┼───░─┤ H ├─╫──╫─┤M├\n",
       "     ├───┤┌───┐ ░ ┌─┴─┐┌─┴─┐┌─┴─┐ ░ └───┘ ║  ║ └╥┘\n",
       "q_3: ┤ X ├┤ H ├─░─┤ X ├┤ X ├┤ X ├─░───────╫──╫──╫─\n",
       "     └───┘└───┘ ░ └───┘└───┘└───┘ ░       ║  ║  ║ \n",
       "c: 3/═════════════════════════════════════╩══╩══╩═\n",
       "                                          2  1  0 </pre>"
      ],
      "text/plain": [
       "     ┌───┐      ░                 ░ ┌───┐┌─┐      \n",
       "q_0: ┤ H ├──────░─────────────■───░─┤ H ├┤M├──────\n",
       "     ├───┤      ░             │   ░ ├───┤└╥┘┌─┐   \n",
       "q_1: ┤ H ├──────░────────■────■───░─┤ H ├─╫─┤M├───\n",
       "     ├───┤      ░        │    │   ░ ├───┤ ║ └╥┘┌─┐\n",
       "q_2: ┤ H ├──────░───■────┼────┼───░─┤ H ├─╫──╫─┤M├\n",
       "     ├───┤┌───┐ ░ ┌─┴─┐┌─┴─┐┌─┴─┐ ░ └───┘ ║  ║ └╥┘\n",
       "q_3: ┤ X ├┤ H ├─░─┤ X ├┤ X ├┤ X ├─░───────╫──╫──╫─\n",
       "     └───┘└───┘ ░ └───┘└───┘└───┘ ░       ║  ║  ║ \n",
       "c: 3/═════════════════════════════════════╩══╩══╩═\n",
       "                                          2  1  0 "
      ]
     },
     "execution_count": 16,
     "metadata": {},
     "output_type": "execute_result"
    }
   ],
   "source": [
    "n = 3\n",
    "\n",
    "qc = prepare(n)\n",
    "\n",
    "qc.barrier()\n",
    "\n",
    "ejercicio2(qc, n)\n",
    "\n",
    "qc.barrier()\n",
    "\n",
    "end(qc, n)\n",
    "\n",
    "qc.draw()"
   ]
  },
  {
   "cell_type": "markdown",
   "id": "3dcef471",
   "metadata": {},
   "source": [
    "### Simulaciones"
   ]
  },
  {
   "cell_type": "markdown",
   "id": "b98e8f58",
   "metadata": {},
   "source": [
    "Solo en aquellos oraculos cuya salida es constante su salida es siempre |0>"
   ]
  },
  {
   "cell_type": "code",
   "execution_count": 17,
   "id": "e670b9b1",
   "metadata": {},
   "outputs": [
    {
     "data": {
      "image/png": "[encoded data removed]",
      "text/plain": [
       "<Figure size 504x360 with 1 Axes>"
      ]
     },
     "execution_count": 17,
     "metadata": {},
     "output_type": "execute_result"
    }
   ],
   "source": [
    "n = 3\n",
    "\n",
    "qc = prepare(n)\n",
    "\n",
    "qc.barrier()\n",
    "\n",
    "ejercicio2(qc, n)\n",
    "\n",
    "qc.barrier()\n",
    "\n",
    "end(qc, n)\n",
    "\n",
    "# Simulamos el circuito 1000 veces y mostramos el resultado en un histograma\n",
    "qasm_sim = Aer.get_backend('qasm_simulator')\n",
    "qc = transpile(qc, qasm_sim)\n",
    "qobj = assemble(qc)\n",
    "\n",
    "\n",
    "result = qasm_sim.run(qc).result()\n",
    "\n",
    "counts = result.get_counts(qc)\n",
    "plot_histogram(counts, title='Salida de la suma 01 y 10')"
   ]
  },
  {
   "cell_type": "code",
   "execution_count": 18,
   "id": "37ad5877",
   "metadata": {},
   "outputs": [
    {
     "data": {
      "image/png": "[encoded data removed]",
      "text/plain": [
       "<Figure size 504x360 with 1 Axes>"
      ]
     },
     "execution_count": 18,
     "metadata": {},
     "output_type": "execute_result"
    }
   ],
   "source": [
    "n = 3\n",
    "\n",
    "qc = prepare(n)\n",
    "\n",
    "qc.barrier()\n",
    "\n",
    "cnots(qc, n)\n",
    "\n",
    "qc.barrier()\n",
    "\n",
    "end(qc, n)\n",
    "\n",
    "# Simulamos el circuito 1000 veces y mostramos el resultado en un histograma\n",
    "qasm_sim = Aer.get_backend('qasm_simulator')\n",
    "qc = transpile(qc, qasm_sim)\n",
    "qobj = assemble(qc)\n",
    "\n",
    "\n",
    "result = qasm_sim.run(qc).result()\n",
    "\n",
    "counts = result.get_counts(qc)\n",
    "plot_histogram(counts, title='Salida de la suma 01 y 10')"
   ]
  },
  {
   "cell_type": "code",
   "execution_count": 19,
   "id": "5f806dae",
   "metadata": {},
   "outputs": [
    {
     "data": {
      "image/png": "[encoded data removed]",
      "text/plain": [
       "<Figure size 504x360 with 1 Axes>"
      ]
     },
     "execution_count": 19,
     "metadata": {},
     "output_type": "execute_result"
    }
   ],
   "source": [
    "n = 3\n",
    "\n",
    "qc = prepare(n)\n",
    "\n",
    "qc.barrier()\n",
    "\n",
    "Rcnots(qc, n)\n",
    "\n",
    "qc.barrier()\n",
    "\n",
    "end(qc, n)\n",
    "\n",
    "# Simulamos el circuito 1000 veces y mostramos el resultado en un histograma\n",
    "qasm_sim = Aer.get_backend('qasm_simulator')\n",
    "qc = transpile(qc, qasm_sim)\n",
    "qobj = assemble(qc)\n",
    "\n",
    "\n",
    "result = qasm_sim.run(qc).result()\n",
    "\n",
    "counts = result.get_counts(qc)\n",
    "plot_histogram(counts, title='Salida de la suma 01 y 10')"
   ]
  },
  {
   "cell_type": "code",
   "execution_count": 20,
   "id": "d5b8343b",
   "metadata": {},
   "outputs": [
    {
     "data": {
      "image/png": "[encoded data removed]",
      "text/plain": [
       "<Figure size 504x360 with 1 Axes>"
      ]
     },
     "execution_count": 20,
     "metadata": {},
     "output_type": "execute_result"
    }
   ],
   "source": [
    "n = 4\n",
    "\n",
    "qc = prepare(n)\n",
    "\n",
    "qc.barrier()\n",
    "\n",
    "ejercicio1(qc, n)\n",
    "\n",
    "qc.barrier()\n",
    "\n",
    "end(qc, n)\n",
    "\n",
    "# Simulamos el circuito 1000 veces y mostramos el resultado en un histograma\n",
    "qasm_sim = Aer.get_backend('qasm_simulator')\n",
    "qc = transpile(qc, qasm_sim)\n",
    "qobj = assemble(qc)\n",
    "\n",
    "\n",
    "result = qasm_sim.run(qc).result()\n",
    "\n",
    "counts = result.get_counts(qc)\n",
    "plot_histogram(counts, title='Salida de la suma 01 y 10')"
   ]
  },
  {
   "cell_type": "markdown",
   "id": "1e7c180b",
   "metadata": {},
   "source": [
    "### Ejecuciones en backends reales"
   ]
  },
  {
   "cell_type": "markdown",
   "id": "fc85d568",
   "metadata": {},
   "source": [
    "Como podemos comprobar en estas simulaciones echas en backends reales, para un oráculo constante como ejercicio1() vemos que las salidas son mayoritariamente (66.7%) |0000>, aunque haya errores debido al ruido. Por otro lado en un oraculo no constante como Rcnots() este no es el caso habiendo |0000> un 0.5% de las veces y dominando la salida |1111>"
   ]
  },
  {
   "cell_type": "code",
   "execution_count": 92,
   "id": "3a848e41",
   "metadata": {},
   "outputs": [],
   "source": [
    "n = 4\n",
    "qc = prepare(n)\n",
    "qc.barrier()\n",
    "ejercicio1(qc, n)\n",
    "qc.barrier()\n",
    "end(qc, n)"
   ]
  },
  {
   "cell_type": "code",
   "execution_count": 93,
   "id": "48acf3dc",
   "metadata": {},
   "outputs": [
    {
     "name": "stdout",
     "output_type": "stream",
     "text": [
      "least busy backend:  ibmq_quito\n"
     ]
    }
   ],
   "source": [
    "from qiskit import IBMQ\n",
    "from qiskit.providers.ibmq import least_busy\n",
    "IBMQ.save_account('your account', overwrite=True)\n",
    "shots = 1024\n",
    "\n",
    "# Load local account information\n",
    "IBMQ.load_account()\n",
    "# Get the least busy backend\n",
    "provider = IBMQ.get_provider(hub='ibm-q')\n",
    "backend = least_busy(provider.backends(filters=lambda x: x.configuration().n_qubits >= 2 \n",
    "                                       and not x.configuration().simulator \n",
    "                                       and x.status().operational==True))\n",
    "print(\"least busy backend: \", backend)\n",
    "# Run our circuit\n",
    "t_qc = transpile(qc, backend, optimization_level=3)\n",
    "qobj = assemble(t_qc)\n",
    "job = backend.run(qobj)"
   ]
  },
  {
   "cell_type": "code",
   "execution_count": 94,
   "id": "dea3f2dc",
   "metadata": {},
   "outputs": [
    {
     "name": "stdout",
     "output_type": "stream",
     "text": [
      "Job Status: job has successfully run\n"
     ]
    }
   ],
   "source": [
    "# Monitoring our job\n",
    "from qiskit.tools.monitor import job_monitor\n",
    "job_monitor(job)"
   ]
  },
  {
   "cell_type": "code",
   "execution_count": 95,
   "id": "bd495256",
   "metadata": {},
   "outputs": [
    {
     "data": {
      "image/png": "[encoded data removed]",
      "text/plain": [
       "<Figure size 504x360 with 1 Axes>"
      ]
     },
     "execution_count": 95,
     "metadata": {},
     "output_type": "execute_result"
    }
   ],
   "source": [
    "# Plotting our result\n",
    "result = job.result()\n",
    "plot_histogram(result.get_counts(qc), title='Salida deberia ser 0000')"
   ]
  },
  {
   "cell_type": "code",
   "execution_count": 83,
   "id": "c8ecb743",
   "metadata": {
    "scrolled": true
   },
   "outputs": [],
   "source": [
    "n = 4\n",
    "qc = prepare(n)\n",
    "qc.barrier()\n",
    "Rcnots(qc, n)\n",
    "qc.barrier()\n",
    "end(qc, n)"
   ]
  },
  {
   "cell_type": "code",
   "execution_count": 84,
   "id": "cb1fe5ce",
   "metadata": {},
   "outputs": [
    {
     "name": "stdout",
     "output_type": "stream",
     "text": [
      "least busy backend:  ibmq_quito\n"
     ]
    }
   ],
   "source": [
    "# Load local account information\n",
    "IBMQ.load_account()\n",
    "# Get the least busy backend\n",
    "provider = IBMQ.get_provider(hub='ibm-q')\n",
    "backend = least_busy(provider.backends(filters=lambda x: x.configuration().n_qubits >= 2 \n",
    "                                       and not x.configuration().simulator \n",
    "                                       and x.status().operational==True))\n",
    "print(\"least busy backend: \", backend)\n",
    "# Run our circuit\n",
    "t_qc = transpile(qc, backend, optimization_level=3)\n",
    "qobj = assemble(t_qc)\n",
    "job = backend.run(qobj)"
   ]
  },
  {
   "cell_type": "code",
   "execution_count": 85,
   "id": "763e3ef8",
   "metadata": {},
   "outputs": [
    {
     "name": "stdout",
     "output_type": "stream",
     "text": [
      "Job Status: job has successfully run\n"
     ]
    }
   ],
   "source": [
    "# Monitoring our job\n",
    "from qiskit.tools.monitor import job_monitor\n",
    "job_monitor(job)"
   ]
  },
  {
   "cell_type": "code",
   "execution_count": 88,
   "id": "9c526558",
   "metadata": {},
   "outputs": [
    {
     "data": {
      "image/png": "[encoded data removed]",
      "text/plain": [
       "<Figure size 504x360 with 1 Axes>"
      ]
     },
     "execution_count": 88,
     "metadata": {},
     "output_type": "execute_result"
    }
   ],
   "source": [
    "# Plotting our result\n",
    "result = job.result()\n",
    "plot_histogram(result.get_counts(qc))"
   ]
  }
 ],
 "metadata": {
  "kernelspec": {
   "display_name": "Python 3",
   "language": "python",
   "name": "python3"
  },
  "language_info": {
   "codemirror_mode": {
    "name": "ipython",
    "version": 3
   },
   "file_extension": ".py",
   "mimetype": "text/x-python",
   "name": "python",
   "nbconvert_exporter": "python",
   "pygments_lexer": "ipython3",
   "version": "3.8.3"
  }
 },
 "nbformat": 4,
 "nbformat_minor": 5
}
