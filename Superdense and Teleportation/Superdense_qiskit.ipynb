{
 "cells": [
  {
   "cell_type": "markdown",
   "id": "605fe1e3",
   "metadata": {},
   "source": [
    "# Codificación superdensa"
   ]
  },
  {
   "cell_type": "markdown",
   "id": "ed505729",
   "metadata": {},
   "source": [
    "## Diferencias entre Teleportación cuántica y Codificación superdensa"
   ]
  },
  {
   "cell_type": "markdown",
   "id": "8c5445fe",
   "metadata": {},
   "source": [
    "Teleportación cuántica es el proceso por el cual un estado (|ψ⟩) puede ser transmitido de un lugar a otro usando dos bits clasicos y un par Bell. La codificación superdensa trata de un proceso que permite enviar dos bits clasicos atraves de un solo qubit de comunicación."
   ]
  },
  {
   "cell_type": "markdown",
   "id": "e84f5973",
   "metadata": {},
   "source": [
    "### Quiskit"
   ]
  },
  {
   "cell_type": "markdown",
   "id": "7820889b",
   "metadata": {},
   "source": [
    "En este apartado se expone como implementar un circuito de codificación superdensa en qiskit y a partir de el poder enviar dos bits cualesquiera ayudandonos de dicho circuito."
   ]
  },
  {
   "cell_type": "code",
   "execution_count": 11,
   "id": "e12763e2",
   "metadata": {},
   "outputs": [],
   "source": [
    "from qiskit import QuantumCircuit\n",
    "from qiskit import IBMQ, Aer, transpile, assemble\n",
    "from qiskit.visualization import plot_histogram"
   ]
  },
  {
   "cell_type": "markdown",
   "id": "0c08f303",
   "metadata": {},
   "source": [
    "Creamos el par de Bell para entrelazar los qubits entre si"
   ]
  },
  {
   "cell_type": "code",
   "execution_count": 2,
   "id": "0d8982ab",
   "metadata": {},
   "outputs": [],
   "source": [
    "def create_bell_pair(qc, a, b):\n",
    "    qc.h(a) # Aplicamos una Hadamard a 'a'\n",
    "    qc.cx(a,b) # Aplicamos una cnot a 'b' \n",
    "               # usando 'a' como qubit de control"
   ]
  },
  {
   "cell_type": "markdown",
   "id": "fd743c28",
   "metadata": {},
   "source": [
    "Esta funcion pasa recive el mensaje que se quiere enviar y aplica las puertas necesarias al qubit dado (que en este caso sera el qubit al que se aplica le hadamard en el par de Bell al inicio del circuito) para que este pueda transmitir el mensaje de dos bits."
   ]
  },
  {
   "cell_type": "code",
   "execution_count": 3,
   "id": "55eb3a9b",
   "metadata": {},
   "outputs": [],
   "source": [
    "def encode_message(qc, qubit, msg):\n",
    "    if msg == \"00\":\n",
    "        pass    # Nada para mandar 00\n",
    "    elif msg == \"10\":\n",
    "        qc.x(qubit) # Puerta X para mandar 10\n",
    "    elif msg == \"01\":\n",
    "        qc.z(qubit) # Puerta Z para mandar 01\n",
    "    elif msg == \"11\":\n",
    "        qc.z(qubit) # Puerta Z para mandar 11\n",
    "        qc.x(qubit) # sequida de una puerta X\n",
    "    else:\n",
    "        print(\"Invalid Message: Sending '00'\")"
   ]
  },
  {
   "cell_type": "markdown",
   "id": "9ecb276f",
   "metadata": {},
   "source": [
    "Esta función sera la encargada de una vez llegado el qubit que contiene la información de ambos bits enviados y utilizando el segundo qubit del par de bell entrelazado al principio de circuito, recrear el mensaje de dos bits clasicos que se querian enviar."
   ]
  },
  {
   "cell_type": "code",
   "execution_count": 4,
   "id": "8be3abcd",
   "metadata": {},
   "outputs": [],
   "source": [
    "def decode_message(qc, a, b):\n",
    "    qc.cx(a,b)\n",
    "    qc.h(a)"
   ]
  },
  {
   "cell_type": "markdown",
   "id": "2500681e",
   "metadata": {},
   "source": [
    "Creamos el circuito usando todas las funciones anteriores"
   ]
  },
  {
   "cell_type": "code",
   "execution_count": 5,
   "id": "1949f357",
   "metadata": {},
   "outputs": [
    {
     "data": {
      "text/html": [
       "<pre style=\"word-wrap: normal;white-space: pre;background: #fff0;line-height: 1.1;font-family: &quot;Courier New&quot;,Courier,monospace\">        ┌───┐      ░ ┌───┐ ░      ┌───┐ ░ ┌─┐   \n",
       "   q_0: ┤ H ├──■───░─┤ X ├─░───■──┤ H ├─░─┤M├───\n",
       "        └───┘┌─┴─┐ ░ └───┘ ░ ┌─┴─┐└───┘ ░ └╥┘┌─┐\n",
       "   q_1: ─────┤ X ├─░───────░─┤ X ├──────░──╫─┤M├\n",
       "             └───┘ ░       ░ └───┘      ░  ║ └╥┘\n",
       "meas: 2/═══════════════════════════════════╩══╩═\n",
       "                                           0  1 </pre>"
      ],
      "text/plain": [
       "        ┌───┐      ░ ┌───┐ ░      ┌───┐ ░ ┌─┐   \n",
       "   q_0: ┤ H ├──■───░─┤ X ├─░───■──┤ H ├─░─┤M├───\n",
       "        └───┘┌─┴─┐ ░ └───┘ ░ ┌─┴─┐└───┘ ░ └╥┘┌─┐\n",
       "   q_1: ─────┤ X ├─░───────░─┤ X ├──────░──╫─┤M├\n",
       "             └───┘ ░       ░ └───┘      ░  ║ └╥┘\n",
       "meas: 2/═══════════════════════════════════╩══╩═\n",
       "                                           0  1 "
      ]
     },
     "execution_count": 5,
     "metadata": {},
     "output_type": "execute_result"
    }
   ],
   "source": [
    "qc = QuantumCircuit(2)\n",
    "\n",
    "\n",
    "# Primero, creamos un par entrelazado de qubits\n",
    "create_bell_pair(qc, 0, 1)\n",
    "qc.barrier()\n",
    "\n",
    "# Uno va a emisor y otro al receptor de los dos bits clasicos\n",
    "\n",
    "# Ahora codificamos el mensaje en q0, en este caso hemos utilizado el \n",
    "# mensaje '10' , lo que nos es indiferente ya que cualquier mensaje \n",
    "# de dos podría ser mandado\n",
    "message = \"10\"\n",
    "encode_message(qc, 0, message)\n",
    "qc.barrier()\n",
    "# Enviamos el qubit al receptor\n",
    "\n",
    "# Decodificamos el qubit que nos han \n",
    "# mandado con la información del mensaje\n",
    "decode_message(qc, 0, 1)\n",
    "\n",
    "qc.measure_all()\n",
    "\n",
    "qc.draw()"
   ]
  },
  {
   "cell_type": "markdown",
   "id": "31ac5afe",
   "metadata": {},
   "source": [
    "Como podemos observar en la siguiente simulacion, los datos que nos salen al medir son siempre iguales al mensaje enviado, y esto pasa siempre ya que lo estamos midiendo en condiciones ideales"
   ]
  },
  {
   "cell_type": "code",
   "execution_count": 6,
   "id": "fbf7dcde",
   "metadata": {},
   "outputs": [
    {
     "name": "stdout",
     "output_type": "stream",
     "text": [
      "{'10': 1024}\n"
     ]
    },
    {
     "data": {
      "image/png": "[encoded data removed]",
      "text/plain": [
       "<Figure size 504x360 with 1 Axes>"
      ]
     },
     "execution_count": 6,
     "metadata": {},
     "output_type": "execute_result"
    }
   ],
   "source": [
    "qasm_sim = Aer.get_backend('qasm_simulator')\n",
    "qobj = assemble(qc)\n",
    "result = qasm_sim.run(qobj).result()\n",
    "counts = result.get_counts(qc)\n",
    "print(counts)\n",
    "plot_histogram(counts)"
   ]
  },
  {
   "cell_type": "markdown",
   "id": "2bc1ac54",
   "metadata": {},
   "source": [
    "## Simulacion en condiciones no ideales"
   ]
  },
  {
   "cell_type": "markdown",
   "id": "6e20e0a4",
   "metadata": {},
   "source": [
    "### Ejecucion con modelos de ruido"
   ]
  },
  {
   "cell_type": "code",
   "execution_count": 7,
   "id": "51ee812b",
   "metadata": {},
   "outputs": [
    {
     "name": "stderr",
     "output_type": "stream",
     "text": [
      "/home/feynman/anaconda3/envs/qiskitEnv/lib/python3.8/site-packages/qiskit/providers/ibmq/ibmqfactory.py:192: UserWarning: Timestamps in IBMQ backend properties, jobs, and job results are all now in local time instead of UTC.\n",
      "  warnings.warn('Timestamps in IBMQ backend properties, jobs, and job results '\n"
     ]
    }
   ],
   "source": [
    "from qiskit import QuantumCircuit, execute\n",
    "from qiskit import IBMQ, Aer\n",
    "from qiskit.visualization import plot_histogram\n",
    "from qiskit.providers.aer.noise import NoiseModel\n",
    "from qiskit.compiler import transpile, assemble, schedule\n",
    "IBMQ.save_account('your account', overwrite=True)\n",
    "provider = IBMQ.load_account()"
   ]
  },
  {
   "cell_type": "code",
   "execution_count": 10,
   "id": "e13018eb",
   "metadata": {},
   "outputs": [
    {
     "name": "stdout",
     "output_type": "stream",
     "text": [
      "\n",
      "Número de ocurrencias: {'00': 46, '01': 4, '10': 939, '11': 35}\n"
     ]
    },
    {
     "data": {
      "image/png": "[encoded data removed]",
      "text/plain": [
       "<Figure size 504x360 with 1 Axes>"
      ]
     },
     "execution_count": 10,
     "metadata": {},
     "output_type": "execute_result"
    }
   ],
   "source": [
    "# Construir un modelo de ruido a partir de las características de un backend real\n",
    "backend = provider.get_backend('ibmq_belem')\n",
    "noise_model = NoiseModel.from_backend(backend)\n",
    "\n",
    "# Obtener el mapa de interconexión de los qubits\n",
    "coupling_map = backend.configuration().coupling_map\n",
    "\n",
    "# Obtener las características de las puertas básicas\n",
    "basis_gates = noise_model.basis_gates\n",
    "\n",
    "######################\n",
    "# Crear circuito    #\n",
    "#####################\n",
    "\n",
    "# Perform a noise simulation\n",
    "result = execute(qc, Aer.get_backend('qasm_simulator'),\n",
    "                 coupling_map=coupling_map,\n",
    "                 basis_gates=basis_gates,\n",
    "                 noise_model=noise_model).result()\n",
    "\n",
    "######################\n",
    "# Mostrar resultados #\n",
    "######################\n",
    "\n",
    "counts = result.get_counts(qc)\n",
    "print(\"\\nNúmero de ocurrencias:\",counts)\n",
    "plot_histogram(counts)"
   ]
  },
  {
   "cell_type": "markdown",
   "id": "ed028060",
   "metadata": {},
   "source": [
    "Como podemos ver aunque '10' (el mensaje que queremos enviar) no es siempre la salida, la probabilidad de que ocurra es lo suficientemente mayor como para considerarse un exito, teniendo un fallo de solo el 8,5%."
   ]
  },
  {
   "cell_type": "markdown",
   "id": "783a8d73",
   "metadata": {},
   "source": [
    "### Ejecucion en backends reales"
   ]
  },
  {
   "cell_type": "code",
   "execution_count": 14,
   "id": "84b47453",
   "metadata": {},
   "outputs": [
    {
     "name": "stderr",
     "output_type": "stream",
     "text": [
      "/home/feynman/anaconda3/envs/qiskitEnv/lib/python3.8/site-packages/qiskit/providers/ibmq/ibmqfactory.py:192: UserWarning: Timestamps in IBMQ backend properties, jobs, and job results are all now in local time instead of UTC.\n",
      "  warnings.warn('Timestamps in IBMQ backend properties, jobs, and job results '\n"
     ]
    },
    {
     "name": "stdout",
     "output_type": "stream",
     "text": [
      "least busy backend:  ibmq_belem\n"
     ]
    }
   ],
   "source": [
    "from qiskit import IBMQ\n",
    "from qiskit.providers.ibmq import least_busy\n",
    "shots = 1024\n",
    "\n",
    "IBMQ.load_account()\n",
    "# Get the least busy backend\n",
    "provider = IBMQ.get_provider(hub='ibm-q')\n",
    "backend = least_busy(provider.backends(filters=lambda x: x.configuration().n_qubits >= 2 and not x.configuration().simulator and x.status().operational==True))\n",
    "print(\"least busy backend: \", backend)\n",
    "\n",
    "t_qc = transpile(qc, backend, optimization_level=3)\n",
    "qobj = assemble(t_qc)\n",
    "job = backend.run(qobj)"
   ]
  },
  {
   "cell_type": "code",
   "execution_count": 18,
   "id": "da986f2a",
   "metadata": {},
   "outputs": [
    {
     "name": "stdout",
     "output_type": "stream",
     "text": [
      "\r",
      "Job Status: job has successfully run\n"
     ]
    }
   ],
   "source": [
    "from qiskit.tools.monitor import job_monitor\n",
    "job_monitor(job)"
   ]
  },
  {
   "cell_type": "code",
   "execution_count": 19,
   "id": "c4bad4f4",
   "metadata": {},
   "outputs": [
    {
     "data": {
      "image/png": "[encoded data removed]",
      "text/plain": [
       "<Figure size 504x360 with 1 Axes>"
      ]
     },
     "execution_count": 19,
     "metadata": {},
     "output_type": "execute_result"
    }
   ],
   "source": [
    "result = job.result()\n",
    "plot_histogram(result.get_counts(qc))"
   ]
  },
  {
   "cell_type": "code",
   "execution_count": 20,
   "id": "6a46538d",
   "metadata": {},
   "outputs": [
    {
     "name": "stdout",
     "output_type": "stream",
     "text": [
      "Accuracy = 88.77%\n"
     ]
    }
   ],
   "source": [
    "correct_results = result.get_counts(qc)[message]\n",
    "accuracy = (correct_results/shots)*100\n",
    "print(f\"Accuracy = {accuracy:.2f}%\")"
   ]
  },
  {
   "cell_type": "markdown",
   "id": "7c2be5c4",
   "metadata": {},
   "source": [
    "Vemos que el error no es nulo, la tasa de fallos del experimento es de un 11,23% que aunq para ordenadores que deberian trabajar con miles de operaciones aun es mucho es suficiente como para considerarlo un exito."
   ]
  },
  {
   "cell_type": "markdown",
   "id": "98688bbe",
   "metadata": {},
   "source": [
    "### Conclusiones"
   ]
  },
  {
   "cell_type": "markdown",
   "id": "40216877",
   "metadata": {},
   "source": [
    "Como ya vimos en la practica anterior los resultados no son siempre los esperados debido a la existencia de ruido por lo que no siempre funcionara el circuito, lo que podemos ver en el ultimo apartado de una ejecucion en backend real ya que esta tasa de fallo supera el 10%.\n",
    "\n",
    "En cuanto a las diferencias entre la simulacion con ruido y la ejecucion en un ordenador cuantico podemos observar que en el backend real existe una probabilidad mas grande de fallo ya que la suma de las probabilidades de los estados fallidos es 0.085 en la simulación y en el backend real es de 0.1123, que aun no siendo el doble como ocurria en la teleportación cuantica, esta tasa de fallos es muy grande para un ordenador."
   ]
  }
 ],
 "metadata": {
  "kernelspec": {
   "display_name": "Python 3",
   "language": "python",
   "name": "python3"
  },
  "language_info": {
   "codemirror_mode": {
    "name": "ipython",
    "version": 3
   },
   "file_extension": ".py",
   "mimetype": "text/x-python",
   "name": "python",
   "nbconvert_exporter": "python",
   "pygments_lexer": "ipython3",
   "version": "3.8.3"
  }
 },
 "nbformat": 4,
 "nbformat_minor": 5
}
