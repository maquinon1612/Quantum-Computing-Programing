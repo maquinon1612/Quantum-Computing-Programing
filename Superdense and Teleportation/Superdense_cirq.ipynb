{
 "cells": [
  {
   "cell_type": "markdown",
   "metadata": {},
   "source": [
    "### Cirq"
   ]
  },
  {
   "cell_type": "markdown",
   "metadata": {},
   "source": [
    "En este apartado aparece como se puede construir un circuito en cirq que sirve para utilizar codificación superdensa, en la que pasamos un dos bits clasicos de un emisor a un receptor utilizando unicamente un qubit, para lo que necitaremos ademas un qubit adicional que este entrelazado con este primero para poder decodificar el mensaje en el receptor."
   ]
  },
  {
   "cell_type": "code",
   "execution_count": 21,
   "metadata": {},
   "outputs": [],
   "source": [
    "import cirq\n",
    "from cirq import Simulator"
   ]
  },
  {
   "cell_type": "markdown",
   "metadata": {},
   "source": [
    "Creamos una función que codifique el mensaje de dos bits en un solo qubit a parti de aplicar puertas X o Z"
   ]
  },
  {
   "cell_type": "code",
   "execution_count": 22,
   "metadata": {},
   "outputs": [],
   "source": [
    "def encode_message(qc, qubit, msg):\n",
    "    if msg == \"00\":\n",
    "        pass    # Nada para mandar 00\n",
    "    elif msg == \"10\":\n",
    "        qc.append(cirq.Moment([cirq.X(qubit)])) \n",
    "        # Puerta X para mandar 10\n",
    "    elif msg == \"01\":\n",
    "        qc.append(cirq.Moment([cirq.Z(qubit)])) \n",
    "        # Puerta Z para mandar 01\n",
    "    elif msg == \"11\":\n",
    "        qc.append(cirq.Moment([cirq.Z(qubit)]))\n",
    "        # Puerta Z para mandar 11\n",
    "        qc.append(cirq.Moment([cirq.X(qubit)])) \n",
    "        # sequida de una puerta X\n",
    "    else:\n",
    "        print(\"Invalid Message: Sending '00'\")"
   ]
  },
  {
   "cell_type": "markdown",
   "metadata": {},
   "source": [
    "Y cremos una funcion que decodifique dicho mensaje que nos han mandado con un solo qubit"
   ]
  },
  {
   "cell_type": "code",
   "execution_count": 23,
   "metadata": {},
   "outputs": [],
   "source": [
    "def decode_message(qc, a, b):\n",
    "    circ.append(cirq.CNOT(a, b))\n",
    "    qc.append(cirq.H(a))"
   ]
  },
  {
   "cell_type": "markdown",
   "metadata": {},
   "source": [
    "Cremos el circuito que se encargara de enviar mensajes de dos bits atraves de un solo qubit"
   ]
  },
  {
   "cell_type": "code",
   "execution_count": 24,
   "metadata": {},
   "outputs": [
    {
     "name": "stdout",
     "output_type": "stream",
     "text": [
      "q0: ───H───@───Z───X───@───H───M───────\n",
      "           │           │\n",
      "q1: ───────X───────────X───────────M───\n"
     ]
    }
   ],
   "source": [
    "q0 = cirq.NamedQubit('q0')\n",
    "q1 = cirq.NamedQubit('q1')\n",
    "q2 = cirq.NamedQubit('q2')\n",
    "\n",
    "# Añadimos el entrelazamiento entre los qubits q0 y q1\n",
    "circ = cirq.Circuit(cirq.H(q0), cirq.CNOT(q0, q1))\n",
    "\n",
    "# Utilizamos como mensaje 11 y lo codificamos usandos la funcion creada\n",
    "message = \"11\"\n",
    "encode_message(circ, q0, message)\n",
    "\n",
    "# El receptor recive q0 y a traves de este y q1 que esta \n",
    "# entrelazado con q0 desde antes de la codificación \n",
    "# decodifica el mensaje \n",
    "decode_message(circ, q0, q1)\n",
    "\n",
    "# Se miden los resultados \n",
    "circ.append(cirq.measure(q0))\n",
    "circ.append(cirq.Moment([cirq.measure(q1)]))\n",
    "\n",
    "print(circ)"
   ]
  },
  {
   "cell_type": "markdown",
   "metadata": {},
   "source": [
    "Tal y como vemos en la simulación la unica salida en las 1000 iteraciones es '11' que es el mensaje que queriamos transmitir, por tanto en condiciones ideales se demuestra que el circuito funciona tal y como debería."
   ]
  },
  {
   "cell_type": "code",
   "execution_count": 25,
   "metadata": {},
   "outputs": [
    {
     "data": {
      "image/png": "[encoded data removed]",
      "text/plain": [
       "<Figure size 432x288 with 1 Axes>"
      ]
     },
     "metadata": {
      "needs_background": "light"
     },
     "output_type": "display_data"
    }
   ],
   "source": [
    "simulator = Simulator()\n",
    "result = simulator.run(circ, repetitions=1000)\n",
    "counts = cirq.plot_state_histogram(result)"
   ]
  }
 ],
 "metadata": {
  "kernelspec": {
   "display_name": "Python 3",
   "language": "python",
   "name": "python3"
  },
  "language_info": {
   "codemirror_mode": {
    "name": "ipython",
    "version": 3
   },
   "file_extension": ".py",
   "mimetype": "text/x-python",
   "name": "python",
   "nbconvert_exporter": "python",
   "pygments_lexer": "ipython3",
   "version": "3.8.3"
  }
 },
 "nbformat": 4,
 "nbformat_minor": 5
}
