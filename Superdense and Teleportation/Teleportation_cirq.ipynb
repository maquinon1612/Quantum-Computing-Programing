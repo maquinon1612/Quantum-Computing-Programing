{
 "cells": [
  {
   "cell_type": "markdown",
   "metadata": {},
   "source": [
    "### Cirq"
   ]
  },
  {
   "cell_type": "markdown",
   "metadata": {},
   "source": [
    "En este apartado aparece como se puede construir un circuito en cirq que sirve para provar la teleportación cuantica, en la que pasamos un qubit de q0 a q2 utilizando q1 de mediador."
   ]
  },
  {
   "cell_type": "code",
   "execution_count": null,
   "metadata": {},
   "outputs": [],
   "source": [
    "import cirq\n",
    "from cirq import Simulator"
   ]
  },
  {
   "cell_type": "markdown",
   "metadata": {},
   "source": [
    "Añadimos el entrelazamiento entre los qubits q1 y q2"
   ]
  },
  {
   "cell_type": "code",
   "execution_count": 82,
   "metadata": {},
   "outputs": [
    {
     "name": "stdout",
     "output_type": "stream",
     "text": [
      "q1: ───H───@───\n",
      "           │\n",
      "q2: ───────X───\n"
     ]
    }
   ],
   "source": [
    "q0 = cirq.NamedQubit('q0')\n",
    "q1 = cirq.NamedQubit('q1')\n",
    "q2 = cirq.NamedQubit('q2')\n",
    "\n",
    "circ = cirq.Circuit(cirq.H(q1), cirq.CNOT(q1, q2))\n",
    "print(circ)"
   ]
  },
  {
   "cell_type": "markdown",
   "metadata": {},
   "source": [
    "Añadimos las puertas que preparan los qubits q1 y q0 para que q2 los utilicen para crear de nuevo el estado |ψ⟩ original"
   ]
  },
  {
   "cell_type": "code",
   "execution_count": 83,
   "metadata": {},
   "outputs": [
    {
     "name": "stdout",
     "output_type": "stream",
     "text": [
      "q0: ───────────@───H───\n",
      "               │\n",
      "q1: ───H───@───X───────\n",
      "           │\n",
      "q2: ───────X───────────\n"
     ]
    }
   ],
   "source": [
    "circ.append(cirq.Moment([cirq.CNOT(q0, q1)]))\n",
    "circ.append(cirq.H(q0))\n",
    "print(circ)"
   ]
  },
  {
   "cell_type": "markdown",
   "metadata": {},
   "source": [
    "Se añaden las puertas que utilizando los valores de q0 y q1 transforman q2 en el estado original que se queria enviar "
   ]
  },
  {
   "cell_type": "code",
   "execution_count": 85,
   "metadata": {},
   "outputs": [],
   "source": [
    "def bob_gates(qc, a, b, c):\n",
    "    qc.append(cirq.CNOT(b, c))\n",
    "    qc.append(cirq.CZ(a,c))"
   ]
  },
  {
   "cell_type": "code",
   "execution_count": 86,
   "metadata": {},
   "outputs": [
    {
     "name": "stdout",
     "output_type": "stream",
     "text": [
      "q0: ───────────@───H───M───────────@───\n",
      "               │                   │\n",
      "q1: ───H───@───X───────────M───@───┼───\n",
      "           │                   │   │\n",
      "q2: ───────X───────────────────X───@───\n"
     ]
    }
   ],
   "source": [
    "bob_gates(circ, q0, q1, q2)\n",
    "print(circ)"
   ]
  },
  {
   "cell_type": "markdown",
   "metadata": {},
   "source": [
    "Se mide el ultimo qubit para comprovar su valor y comprovar el correcto envio "
   ]
  },
  {
   "cell_type": "code",
   "execution_count": 87,
   "metadata": {},
   "outputs": [
    {
     "name": "stdout",
     "output_type": "stream",
     "text": [
      "q0: ───────────@───H───M───────────@───────\n",
      "               │                   │\n",
      "q1: ───H───@───X───────────M───@───┼───────\n",
      "           │                   │   │\n",
      "q2: ───────X───────────────────X───@───M───\n"
     ]
    }
   ],
   "source": [
    "circ.append(cirq.Moment([cirq.measure(q2)]))\n",
    "print(circ)"
   ]
  },
  {
   "cell_type": "markdown",
   "metadata": {},
   "source": [
    "Se hace la simulacion 1000 veces del circuito para comprovar resultados "
   ]
  },
  {
   "cell_type": "code",
   "execution_count": 88,
   "metadata": {},
   "outputs": [
    {
     "name": "stdout",
     "output_type": "stream",
     "text": [
      "resultados para q2:  Counter({0: 1000})\n"
     ]
    },
    {
     "data": {
      "image/png": "[encoded data removed]",
      "text/plain": [
       "<Figure size 432x288 with 1 Axes>"
      ]
     },
     "metadata": {
      "needs_background": "light"
     },
     "output_type": "display_data"
    }
   ],
   "source": [
    "from cirq import Simulator\n",
    "simulator = Simulator()\n",
    "result = simulator.run(circ, repetitions=1000)\n",
    "print('resultados para q2: ',result.histogram(key='q2'))\n",
    "counts = cirq.plot_state_histogram(result)"
   ]
  },
  {
   "cell_type": "markdown",
   "metadata": {},
   "source": [
    "Ya que los qubits se inicializan a |0⟩ el estado final del qubit q2 siempre es 0 como podemos comprobar en los resultados para q2.\n",
    "\n",
    "Ademas podemos observar en el histograma que el valor de q2 representados por el tercer bit siempre es cero, aunque q1 y q2 pueden variar, pero estos valores no son de vital importancia."
   ]
  }
 ],
 "metadata": {
  "kernelspec": {
   "display_name": "Python 3",
   "language": "python",
   "name": "python3"
  },
  "language_info": {
   "codemirror_mode": {
    "name": "ipython",
    "version": 3
   },
   "file_extension": ".py",
   "mimetype": "text/x-python",
   "name": "python",
   "nbconvert_exporter": "python",
   "pygments_lexer": "ipython3",
   "version": "3.8.3"
  }
 },
 "nbformat": 4,
 "nbformat_minor": 5
}
